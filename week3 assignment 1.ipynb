{
 "cells": [
  {
   "cell_type": "markdown",
   "metadata": {},
   "source": [
    "## This notebook is used for Coursera Project\n",
    "### We will import some libraries now"
   ]
  },
  {
   "cell_type": "code",
   "execution_count": 1,
   "metadata": {},
   "outputs": [],
   "source": [
    "import pandas as pd\n",
    "import numpy as np"
   ]
  },
  {
   "cell_type": "code",
   "execution_count": 2,
   "metadata": {},
   "outputs": [
    {
     "name": "stdout",
     "output_type": "stream",
     "text": [
      "Hello Capstone Project\n"
     ]
    }
   ],
   "source": [
    "print('Hello Capstone Project')"
   ]
  },
  {
   "cell_type": "code",
   "execution_count": 4,
   "metadata": {},
   "outputs": [],
   "source": [
    "df=pd.read_html('https://en.wikipedia.org/wiki/List_of_postal_codes_of_Canada:_M')"
   ]
  },
  {
   "cell_type": "code",
   "execution_count": 9,
   "metadata": {},
   "outputs": [],
   "source": [
    "df=df[0]"
   ]
  },
  {
   "cell_type": "code",
   "execution_count": 11,
   "metadata": {},
   "outputs": [],
   "source": [
    "df=df[df['Borough']!='Not assigned']"
   ]
  },
  {
   "cell_type": "code",
   "execution_count": 19,
   "metadata": {},
   "outputs": [
    {
     "data": {
      "text/html": [
       "<div>\n",
       "<style scoped>\n",
       "    .dataframe tbody tr th:only-of-type {\n",
       "        vertical-align: middle;\n",
       "    }\n",
       "\n",
       "    .dataframe tbody tr th {\n",
       "        vertical-align: top;\n",
       "    }\n",
       "\n",
       "    .dataframe thead th {\n",
       "        text-align: right;\n",
       "    }\n",
       "</style>\n",
       "<table border=\"1\" class=\"dataframe\">\n",
       "  <thead>\n",
       "    <tr style=\"text-align: right;\">\n",
       "      <th></th>\n",
       "      <th>Postal Code</th>\n",
       "      <th>Borough</th>\n",
       "      <th>Neighbourhood</th>\n",
       "    </tr>\n",
       "  </thead>\n",
       "  <tbody>\n",
       "    <tr>\n",
       "      <th>count</th>\n",
       "      <td>103</td>\n",
       "      <td>103</td>\n",
       "      <td>103</td>\n",
       "    </tr>\n",
       "    <tr>\n",
       "      <th>unique</th>\n",
       "      <td>103</td>\n",
       "      <td>10</td>\n",
       "      <td>99</td>\n",
       "    </tr>\n",
       "    <tr>\n",
       "      <th>top</th>\n",
       "      <td>M4A</td>\n",
       "      <td>North York</td>\n",
       "      <td>Downsview</td>\n",
       "    </tr>\n",
       "    <tr>\n",
       "      <th>freq</th>\n",
       "      <td>1</td>\n",
       "      <td>24</td>\n",
       "      <td>4</td>\n",
       "    </tr>\n",
       "  </tbody>\n",
       "</table>\n",
       "</div>"
      ],
      "text/plain": [
       "       Postal Code     Borough Neighbourhood\n",
       "count          103         103           103\n",
       "unique         103          10            99\n",
       "top            M4A  North York     Downsview\n",
       "freq             1          24             4"
      ]
     },
     "execution_count": 19,
     "metadata": {},
     "output_type": "execute_result"
    }
   ],
   "source": [
    "df.describe()"
   ]
  },
  {
   "cell_type": "markdown",
   "metadata": {},
   "source": [
    "### As we could see all postal codes are unique hence no need to do merge neighbourhood"
   ]
  },
  {
   "cell_type": "code",
   "execution_count": 22,
   "metadata": {},
   "outputs": [
    {
     "data": {
      "text/plain": [
       "array(['Parkwoods', 'Victoria Village', 'Regent Park, Harbourfront',\n",
       "       'Lawrence Manor, Lawrence Heights',\n",
       "       \"Queen's Park, Ontario Provincial Government\",\n",
       "       'Islington Avenue, Humber Valley Village', 'Malvern, Rouge',\n",
       "       'Don Mills', 'Parkview Hill, Woodbine Gardens',\n",
       "       'Garden District, Ryerson', 'Glencairn',\n",
       "       'West Deane Park, Princess Gardens, Martin Grove, Islington, Cloverdale',\n",
       "       'Rouge Hill, Port Union, Highland Creek', 'Woodbine Heights',\n",
       "       'St. James Town', 'Humewood-Cedarvale',\n",
       "       'Eringate, Bloordale Gardens, Old Burnhamthorpe, Markland Wood',\n",
       "       'Guildwood, Morningside, West Hill', 'The Beaches', 'Berczy Park',\n",
       "       'Caledonia-Fairbanks', 'Woburn', 'Leaside', 'Central Bay Street',\n",
       "       'Christie', 'Cedarbrae', 'Hillcrest Village',\n",
       "       'Bathurst Manor, Wilson Heights, Downsview North',\n",
       "       'Thorncliffe Park', 'Richmond, Adelaide, King',\n",
       "       'Dufferin, Dovercourt Village', 'Scarborough Village',\n",
       "       'Fairview, Henry Farm, Oriole', 'Northwood Park, York University',\n",
       "       'East Toronto, Broadview North (Old East York)',\n",
       "       'Harbourfront East, Union Station, Toronto Islands',\n",
       "       'Little Portugal, Trinity',\n",
       "       'Kennedy Park, Ionview, East Birchmount Park', 'Bayview Village',\n",
       "       'Downsview', 'The Danforth West, Riverdale',\n",
       "       'Toronto Dominion Centre, Design Exchange',\n",
       "       'Brockton, Parkdale Village, Exhibition Place',\n",
       "       'Golden Mile, Clairlea, Oakridge', 'York Mills, Silver Hills',\n",
       "       'India Bazaar, The Beaches West', 'Commerce Court, Victoria Hotel',\n",
       "       'North Park, Maple Leaf Park, Upwood Park', 'Humber Summit',\n",
       "       'Cliffside, Cliffcrest, Scarborough Village West',\n",
       "       'Willowdale, Newtonbrook', 'Studio District',\n",
       "       'Bedford Park, Lawrence Manor East',\n",
       "       'Del Ray, Mount Dennis, Keelsdale and Silverthorn',\n",
       "       'Humberlea, Emery', 'Birch Cliff, Cliffside West',\n",
       "       'Willowdale, Willowdale East', 'Lawrence Park', 'Roselawn',\n",
       "       'Runnymede, The Junction North', 'Weston',\n",
       "       'Dorset Park, Wexford Heights, Scarborough Town Centre',\n",
       "       'York Mills West', 'Davisville North',\n",
       "       'Forest Hill North & West, Forest Hill Road Park',\n",
       "       'High Park, The Junction South', 'Westmount', 'Wexford, Maryvale',\n",
       "       'Willowdale, Willowdale West', 'North Toronto West, Lawrence Park',\n",
       "       'The Annex, North Midtown, Yorkville', 'Parkdale, Roncesvalles',\n",
       "       'Canada Post Gateway Processing Centre',\n",
       "       'Kingsview Village, St. Phillips, Martin Grove Gardens, Richview Gardens',\n",
       "       'Agincourt', 'Davisville', 'University of Toronto, Harbord',\n",
       "       'Runnymede, Swansea', \"Clarks Corners, Tam O'Shanter, Sullivan\",\n",
       "       'Moore Park, Summerhill East',\n",
       "       'Kensington Market, Chinatown, Grange Park',\n",
       "       \"Milliken, Agincourt North, Steeles East, L'Amoreaux East\",\n",
       "       'Summerhill West, Rathnelly, South Hill, Forest Hill SE, Deer Park',\n",
       "       'CN Tower, King and Spadina, Railway Lands, Harbourfront West, Bathurst Quay, South Niagara, Island airport',\n",
       "       'New Toronto, Mimico South, Humber Bay Shores',\n",
       "       'South Steeles, Silverstone, Humbergate, Jamestown, Mount Olive, Beaumond Heights, Thistletown, Albion Gardens',\n",
       "       \"Steeles West, L'Amoreaux West\", 'Rosedale', 'Stn A PO Boxes',\n",
       "       'Alderwood, Long Branch', 'Northwest, West Humber - Clairville',\n",
       "       'Upper Rouge', 'St. James Town, Cabbagetown',\n",
       "       'First Canadian Place, Underground city',\n",
       "       'The Kingsway, Montgomery Road, Old Mill North',\n",
       "       'Church and Wellesley',\n",
       "       'Business reply mail Processing Centre, South Central Letter Processing Plant Toronto',\n",
       "       \"Old Mill South, King's Mill Park, Sunnylea, Humber Bay, Mimico NE, The Queensway East, Royal York South East, Kingsway Park South East\",\n",
       "       'Mimico NW, The Queensway West, South of Bloor, Kingsway Park South West, Royal York South West'],\n",
       "      dtype=object)"
      ]
     },
     "execution_count": 22,
     "metadata": {},
     "output_type": "execute_result"
    }
   ],
   "source": [
    "df['Neighbourhood'].unique()"
   ]
  },
  {
   "cell_type": "code",
   "execution_count": 23,
   "metadata": {},
   "outputs": [
    {
     "data": {
      "text/html": [
       "<div>\n",
       "<style scoped>\n",
       "    .dataframe tbody tr th:only-of-type {\n",
       "        vertical-align: middle;\n",
       "    }\n",
       "\n",
       "    .dataframe tbody tr th {\n",
       "        vertical-align: top;\n",
       "    }\n",
       "\n",
       "    .dataframe thead th {\n",
       "        text-align: right;\n",
       "    }\n",
       "</style>\n",
       "<table border=\"1\" class=\"dataframe\">\n",
       "  <thead>\n",
       "    <tr style=\"text-align: right;\">\n",
       "      <th></th>\n",
       "      <th>Postal Code</th>\n",
       "      <th>Borough</th>\n",
       "      <th>Neighbourhood</th>\n",
       "    </tr>\n",
       "  </thead>\n",
       "  <tbody>\n",
       "  </tbody>\n",
       "</table>\n",
       "</div>"
      ],
      "text/plain": [
       "Empty DataFrame\n",
       "Columns: [Postal Code, Borough, Neighbourhood]\n",
       "Index: []"
      ]
     },
     "execution_count": 23,
     "metadata": {},
     "output_type": "execute_result"
    }
   ],
   "source": [
    "df[df['Neighbourhood']=='Not assigned']"
   ]
  },
  {
   "cell_type": "markdown",
   "metadata": {},
   "source": [
    "### There is no neighbourhood having value 'Not assigned'"
   ]
  },
  {
   "cell_type": "code",
   "execution_count": 24,
   "metadata": {},
   "outputs": [
    {
     "data": {
      "text/plain": [
       "(103, 3)"
      ]
     },
     "execution_count": 24,
     "metadata": {},
     "output_type": "execute_result"
    }
   ],
   "source": [
    "df.shape"
   ]
  },
  {
   "cell_type": "code",
   "execution_count": null,
   "metadata": {},
   "outputs": [],
   "source": []
  }
 ],
 "metadata": {
  "kernelspec": {
   "display_name": "Python 3",
   "language": "python",
   "name": "python3"
  },
  "language_info": {
   "codemirror_mode": {
    "name": "ipython",
    "version": 3
   },
   "file_extension": ".py",
   "mimetype": "text/x-python",
   "name": "python",
   "nbconvert_exporter": "python",
   "pygments_lexer": "ipython3",
   "version": "3.7.6"
  }
 },
 "nbformat": 4,
 "nbformat_minor": 4
}
